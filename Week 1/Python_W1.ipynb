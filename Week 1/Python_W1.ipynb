{
 "cells": [
  {
   "cell_type": "markdown",
   "id": "70b008c5-fcfb-4474-af51-134e9fe34d29",
   "metadata": {},
   "source": [
    "# FAÇA VOCÊ MESMO\n",
    "\n",
    "1. Faça um programa que tenha uma função chamada amplitude. A função deve receber uma lista e imprimir a amplitude.\\\n",
    "Crie também um código para testar sua função.\n",
    "\n",
    "2. Faça uma função que receba uma string e imprima esta string na forma vertical\n",
    "Por exemplo, se receber python, deve imprimir\\\n",
    "p\\\n",
    "y\\\n",
    "t\\\n",
    "h\\\n",
    "o\\\n",
    "n\\\n",
    "Dica: uma string do python funciona como uma lista!\\\n",
    "Crie também um código para testar sua função.\n",
    "\n",
    "3. Crie um programa que leia o peso de uma carga em números inteiros. Se o peso for até 10 kg, informe\n",
    "que o valor será de R$ 50,00. Entre 11 e 20 kg, informe que o valor será de 80 REAIS. Se for maior que 20\n",
    "informe que o transporte não é aceito.\\\n",
    "Teste vários pesos."
   ]
  },
  {
   "cell_type": "markdown",
   "id": "5dbdf579-7646-4171-a213-b1a108dc6b08",
   "metadata": {},
   "source": [
    "# DO YOURSELF\n",
    "\n",
    "1. Make a program that has a function called amplitude. The function should receive a list and print the amplitude.\\\n",
    "Also create a code to test your function.\n",
    "\n",
    "2. Make a function that receives a string and print this string in the vertical form.\\\n",
    "For example, if you receive python, you should print:\\\n",
    "p\\\n",
    "y\\\n",
    "t\\\n",
    "h\\\n",
    "o\\\n",
    "n\\\n",
    "Tip: a python string works like a list!\\\n",
    "Also create a code to test your function.\n",
    "\n",
    "3. Create a program that reads the weight of a load in whole numbers. If the weight is up to 10 kg, please inform that the value will be R$ 50.00. Between 11 and 20 kg, inform that the value will be 80 REAIS. If it is greater than 20 Inform that shipping is not accepted.\\\n",
    "Test several weights.\n"
   ]
  },
  {
   "cell_type": "code",
   "execution_count": null,
   "id": "9ca5687c-16ea-4f38-9117-d0afe474b44f",
   "metadata": {},
   "outputs": [],
   "source": []
  }
 ],
 "metadata": {
  "kernelspec": {
   "display_name": "Python [conda env:base] *",
   "language": "python",
   "name": "conda-base-py"
  },
  "language_info": {
   "codemirror_mode": {
    "name": "ipython",
    "version": 3
   },
   "file_extension": ".py",
   "mimetype": "text/x-python",
   "name": "python",
   "nbconvert_exporter": "python",
   "pygments_lexer": "ipython3",
   "version": "3.12.7"
  }
 },
 "nbformat": 4,
 "nbformat_minor": 5
}
